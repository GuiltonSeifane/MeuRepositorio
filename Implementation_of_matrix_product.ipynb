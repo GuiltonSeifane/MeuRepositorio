{
 "cells": [
  {
   "cell_type": "code",
   "execution_count": 1,
   "metadata": {},
   "outputs": [
    {
     "name": "stdout",
     "output_type": "stream",
     "text": [
      "Matrix A:\n",
      " [[-1  2  3]\n",
      " [ 4 -5  6]\n",
      " [ 7  8 -9]]\n",
      "Matrix B:\n",
      " [[ 0  2  1]\n",
      " [ 0  2 -8]\n",
      " [ 2  9 -1]]\n"
     ]
    }
   ],
   "source": [
    "import numpy as np\n",
    "\n",
    "# Define matrices A and B\n",
    "a_ndarray = np.array([[-1, 2, 3], [4, -5, 6], [7, 8, -9]])\n",
    "b_ndarray = np.array([[0, 2, 1], [0, 2, -8], [2, 9, -1]])\n",
    "\n",
    "# Print matrices for reference\n",
    "print(\"Matrix A:\\n\", a_ndarray)\n",
    "print(\"Matrix B:\\n\", b_ndarray)\n"
   ]
  },
  {
   "cell_type": "code",
   "execution_count": 2,
   "metadata": {},
   "outputs": [
    {
     "name": "stdout",
     "output_type": "stream",
     "text": [
      "Matrix Product using NumPy:\n",
      " [[  6  29 -20]\n",
      " [ 12  52  38]\n",
      " [-18 -51 -48]]\n"
     ]
    }
   ],
   "source": [
    "# Compute matrix product using NumPy\n",
    "c_ndarray = np.matmul(a_ndarray, b_ndarray)  # Alternatively: a_ndarray @ b_ndarray\n",
    "print(\"Matrix Product using NumPy:\\n\", c_ndarray)\n"
   ]
  },
  {
   "cell_type": "code",
   "execution_count": 3,
   "metadata": {},
   "outputs": [
    {
     "name": "stdout",
     "output_type": "stream",
     "text": [
      "Manually Computed C[0,0]: 6\n"
     ]
    }
   ],
   "source": [
    "# Compute one element C[0,0] manually\n",
    "c_00 = a_ndarray[0, 0] * b_ndarray[0, 0] + a_ndarray[0, 1] * b_ndarray[1, 0] + a_ndarray[0, 2] * b_ndarray[2, 0]\n",
    "print(\"Manually Computed C[0,0]:\", c_00)\n"
   ]
  },
  {
   "cell_type": "code",
   "execution_count": 4,
   "metadata": {},
   "outputs": [
    {
     "name": "stdout",
     "output_type": "stream",
     "text": [
      "Matrix Product using Manual Implementation:\n",
      " [[  6.  29. -20.]\n",
      " [ 12.  52.  38.]\n",
      " [-18. -51. -48.]]\n"
     ]
    }
   ],
   "source": [
    "def matrix_multiply(A, B):\n",
    "    # Get the dimensions of A and B\n",
    "    rows_A, cols_A = A.shape\n",
    "    rows_B, cols_B = B.shape\n",
    "\n",
    "    # Check if multiplication is possible\n",
    "    if cols_A != rows_B:\n",
    "        raise ValueError(\"Matrix multiplication not defined: Number of columns of A must equal number of rows of B.\")\n",
    "\n",
    "    # Create an output matrix filled with zeros\n",
    "    C = np.zeros((rows_A, cols_B))\n",
    "\n",
    "    # Compute each element C[i, j]\n",
    "    for i in range(rows_A):\n",
    "        for j in range(cols_B):\n",
    "            C[i, j] = sum(A[i, k] * B[k, j] for k in range(cols_A))\n",
    "\n",
    "    return C\n",
    "\n",
    "# Compute matrix product using the function\n",
    "c_manual = matrix_multiply(a_ndarray, b_ndarray)\n",
    "print(\"Matrix Product using Manual Implementation:\\n\", c_manual)\n"
   ]
  },
  {
   "cell_type": "code",
   "execution_count": 6,
   "metadata": {},
   "outputs": [
    {
     "name": "stdout",
     "output_type": "stream",
     "text": [
      "Matrix multiplication not possible: A has 3 columns, but B has 2 rows.\n"
     ]
    }
   ],
   "source": [
    "def matrix_multiply_safe(A, B):\n",
    "    rows_A, cols_A = A.shape\n",
    "    rows_B, cols_B = B.shape\n",
    "\n",
    "    if cols_A != rows_B:\n",
    "        print(f\"Matrix multiplication not possible: A has {cols_A} columns, but B has {rows_B} rows.\")\n",
    "        return None  # Return None to indicate failure\n",
    "\n",
    "    C = np.zeros((rows_A, cols_B))\n",
    "\n",
    "    for i in range(rows_A):\n",
    "        for j in range(cols_B):\n",
    "            C[i, j] = sum(A[i, k] * B[k, j] for k in range(cols_A))\n",
    "\n",
    "    return C\n",
    "\n",
    "# Test with invalid matrices\n",
    "d_ndarray = np.array([[-1, 2, 3], [4, -5, 6]])\n",
    "e_ndarray = np.array([[-9, 8, 7], [6, -5, 4]])\n",
    "\n",
    "c_invalid = matrix_multiply_safe(d_ndarray, e_ndarray)  # Should print an error message\n"
   ]
  },
  {
   "cell_type": "code",
   "execution_count": 7,
   "metadata": {},
   "outputs": [
    {
     "name": "stdout",
     "output_type": "stream",
     "text": [
      "Matrix Product after Transposing E:\n",
      " [[ 46.  -4.]\n",
      " [-34.  73.]]\n"
     ]
    }
   ],
   "source": [
    "# Transpose matrix E\n",
    "e_transposed = e_ndarray.T\n",
    "\n",
    "# Compute valid multiplication\n",
    "c_valid = matrix_multiply_safe(d_ndarray, e_transposed)\n",
    "print(\"Matrix Product after Transposing E:\\n\", c_valid)\n"
   ]
  }
 ],
 "metadata": {
  "kernelspec": {
   "display_name": "base",
   "language": "python",
   "name": "python3"
  },
  "language_info": {
   "codemirror_mode": {
    "name": "ipython",
    "version": 3
   },
   "file_extension": ".py",
   "mimetype": "text/x-python",
   "name": "python",
   "nbconvert_exporter": "python",
   "pygments_lexer": "ipython3",
   "version": "3.7.4"
  }
 },
 "nbformat": 4,
 "nbformat_minor": 2
}
