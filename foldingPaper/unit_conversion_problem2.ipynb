{
 "cells": [
  {
   "cell_type": "code",
   "execution_count": 1,
   "metadata": {},
   "outputs": [
    {
     "name": "stdout",
     "output_type": "stream",
     "text": [
      "Thickness:  38.44 x 10,000 kilometers\n",
      "The folded paper reaches the moon!\n"
     ]
    }
   ],
   "source": [
    "# Folded thickness in meters \n",
    "folded_thickness = 384400000  # Example thickness in meters\n",
    "\n",
    "# Conversion factor: 10,000 kilometers in meters\n",
    "conversion_factor = 10_000 * 1_000  \n",
    "\n",
    "# Convert to \"10,000 kilometers\" units\n",
    "converted_thickness = folded_thickness / conversion_factor\n",
    "\n",
    "# showing the result\n",
    "print(\"Thickness: {: .2f} x 10,000 kilometers\".format(converted_thickness))\n",
    "\n",
    "# Check if the folded paper reaches the moon\n",
    "distance_to_moon_km = 384_400  # Distance to the moon in kilometers\n",
    "if (folded_thickness / 1_000) >= distance_to_moon_km:\n",
    "    print(\"The folded paper reaches the moon!\")\n",
    "else:\n",
    "    print(\"The folded paper does not reach the moon.\")\n"
   ]
  }
 ],
 "metadata": {
  "kernelspec": {
   "display_name": "base",
   "language": "python",
   "name": "python3"
  },
  "language_info": {
   "codemirror_mode": {
    "name": "ipython",
    "version": 3
   },
   "file_extension": ".py",
   "mimetype": "text/x-python",
   "name": "python",
   "nbconvert_exporter": "python",
   "pygments_lexer": "ipython3",
   "version": "3.7.4"
  }
 },
 "nbformat": 4,
 "nbformat_minor": 2
}
