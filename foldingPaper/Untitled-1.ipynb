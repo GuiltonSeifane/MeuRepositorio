{
 "cells": [
  {
   "cell_type": "code",
   "execution_count": 1,
   "metadata": {},
   "outputs": [
    {
     "name": "stdout",
     "output_type": "stream",
     "text": [
      "A    10\n",
      "B    20\n",
      "C    30\n",
      "dtype: int64\n"
     ]
    }
   ],
   "source": [
    "import pandas as pd\n",
    "row = pd.Series([10, 20, 30], index=[\"A\", \"B\", \"C\"])\n",
    "print(row)\n",
    "#series sao como se fossem arrayss e tal mas com index, nao sei se e obrigatorio"
   ]
  },
  {
   "cell_type": "code",
   "execution_count": 2,
   "metadata": {},
   "outputs": [
    {
     "name": "stdout",
     "output_type": "stream",
     "text": [
      "    0       1      2\n",
      "0  10     ten   True\n",
      "1  20  twenty  False\n"
     ]
    }
   ],
   "source": [
    "df = pd.DataFrame([\n",
    "    [10, \"ten\", True],\n",
    "    [20, \"twenty\", False]\n",
    "])\n",
    "print(df)"
   ]
  },
  {
   "cell_type": "code",
   "execution_count": 12,
   "metadata": {},
   "outputs": [
    {
     "name": "stdout",
     "output_type": "stream",
     "text": [
      "     0   1   2   3   4\n",
      "14  70  71  72  73  74\n",
      "15  75  76  77  78  79\n",
      "16  80  81  82  83  84\n",
      "17  85  86  87  88  89\n",
      "18  90  91  92  93  94\n",
      "     0   1   2   3   4\n",
      "9   45  46  47  48  49\n",
      "10  50  51  52  53  54\n",
      "11  55  56  57  58  59\n"
     ]
    }
   ],
   "source": [
    "import numpy as np  \n",
    "df = pd.DataFrame(np.arange(100).reshape((20, 5)))  \n",
    "#print(df)\n",
    "middle_df = df.tail(20 - 14).head(5)  \n",
    "print(middle_df)\n",
    "\n",
    "n=len(df)\n",
    "\n",
    "middle_start = n // 2 - 1 \n",
    "middle_end = middle_start + 3  \n",
    "\n",
    "middle_df = df.tail(n - middle_start).head(middle_end - middle_start)\n",
    "\n",
    "print(middle_df)"
   ]
  },
  {
   "cell_type": "code",
   "execution_count": null,
   "metadata": {},
   "outputs": [],
   "source": []
  }
 ],
 "metadata": {
  "kernelspec": {
   "display_name": "base",
   "language": "python",
   "name": "python3"
  },
  "language_info": {
   "codemirror_mode": {
    "name": "ipython",
    "version": 3
   },
   "file_extension": ".py",
   "mimetype": "text/x-python",
   "name": "python",
   "nbconvert_exporter": "python",
   "pygments_lexer": "ipython3",
   "version": "3.7.4"
  }
 },
 "nbformat": 4,
 "nbformat_minor": 2
}
