{
 "cells": [
  {
   "cell_type": "code",
   "execution_count": 2,
   "metadata": {},
   "outputs": [
    {
     "name": "stdout",
     "output_type": "stream",
     "text": [
      "Thickness: 703687441.78 meters\n"
     ]
    }
   ],
   "source": [
    "# Constants\n",
    "initial_thickness = 0.00008  # Initial thickness of paper in meters (0.08 mm)\n",
    "folds = 43  # Number of folds\n",
    "\n",
    "\n",
    "# Create an empty list to record thickness values\n",
    "thicknesses = [initial_thickness]  # Start with the initial thickness\n",
    "\n",
    "# Record the thickness at each fold\n",
    "for i in range(1, folds + 1):\n",
    "    new_thickness = thicknesses[-1] * 2 \n",
    "    thicknesses.append(new_thickness)\n",
    "print(\"Thickness: {:.2f} meters\".format(new_thickness))\n"
   ]
  }
 ],
 "metadata": {
  "kernelspec": {
   "display_name": "base",
   "language": "python",
   "name": "python3"
  },
  "language_info": {
   "codemirror_mode": {
    "name": "ipython",
    "version": 3
   },
   "file_extension": ".py",
   "mimetype": "text/x-python",
   "name": "python",
   "nbconvert_exporter": "python",
   "pygments_lexer": "ipython3",
   "version": "3.7.4"
  }
 },
 "nbformat": 4,
 "nbformat_minor": 2
}
