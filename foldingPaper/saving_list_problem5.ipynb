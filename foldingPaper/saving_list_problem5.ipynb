{
 "cells": [
  {
   "cell_type": "code",
   "execution_count": 1,
   "metadata": {},
   "outputs": [
    {
     "name": "stdout",
     "output_type": "stream",
     "text": [
      "Number of values stored: 44\n"
     ]
    },
    {
     "data": {
      "text/plain": [
       "<Figure size 1000x600 with 1 Axes>"
      ]
     },
     "metadata": {},
     "output_type": "display_data"
    }
   ],
   "source": [
    "import matplotlib.pyplot as plt\n",
    "\n",
    "# Constants\n",
    "initial_thickness = 0.00008  # Initial thickness of paper in meters (0.08 mm)\n",
    "folds = 43  # Number of folds\n",
    "distance_to_moon = 384_400_000  # Distance to the moon in meters\n",
    "\n",
    "# Create an empty list to record thickness values\n",
    "thicknesses = [initial_thickness]  # Start with the initial thickness\n",
    "\n",
    "# Record the thickness at each fold\n",
    "for i in range(1, folds + 1):\n",
    "    new_thickness = thicknesses[-1] * 2  # Double the previous thickness\n",
    "    thicknesses.append(new_thickness)\n",
    "\n",
    "# Confirm that 44 values are stored in the list\n",
    "print(f\"Number of values stored: {len(thicknesses)}\")  # Should print 44\n",
    "\n",
    "# Visualization: Line graph\n",
    "plt.figure(figsize=(10, 6))\n",
    "plt.plot(range(len(thicknesses)), thicknesses, marker='o', label=\"Thickness after each fold\")\n",
    "plt.axhline(y=distance_to_moon, color='r', linestyle='--', label=\"Distance to the Moon\")\n",
    "\n",
    "# Labels and title\n",
    "plt.yscale('log')  # Use logarithmic scale for better visualization\n",
    "plt.title(\"Paper Thickness Growth vs Folds\", fontsize=14)\n",
    "plt.xlabel(\"Number of Folds\", fontsize=12)\n",
    "plt.ylabel(\"Thickness (meters, log scale)\", fontsize=12)\n",
    "plt.legend(fontsize=10)\n",
    "plt.grid(True, which=\"both\", linestyle=\"--\", linewidth=0.5)\n",
    "\n",
    "# Show the plot\n",
    "plt.tight_layout()\n",
    "plt.show()\n"
   ]
  }
 ],
 "metadata": {
  "kernelspec": {
   "display_name": "base",
   "language": "python",
   "name": "python3"
  },
  "language_info": {
   "codemirror_mode": {
    "name": "ipython",
    "version": 3
   },
   "file_extension": ".py",
   "mimetype": "text/x-python",
   "name": "python",
   "nbconvert_exporter": "python",
   "pygments_lexer": "ipython3",
   "version": "3.7.4"
  }
 },
 "nbformat": 4,
 "nbformat_minor": 2
}
