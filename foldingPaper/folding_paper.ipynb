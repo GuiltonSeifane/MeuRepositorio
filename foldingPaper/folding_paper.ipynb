{
  "nbformat": 4,
  "nbformat_minor": 0,
  "metadata": {
    "colab": {
      "provenance": []
    },
    "kernelspec": {
      "name": "python3",
      "display_name": "Python 3"
    },
    "language_info": {
      "name": "python"
    }
  },
  "cells": [
    {
      "cell_type": "code",
      "execution_count": null,
      "metadata": {
        "id": "8w7tDg5MObLO"
      },
      "outputs": [],
      "source": []
    },
    {
      "cell_type": "code",
      "source": [
        "# Code to calculate the thickness when the paper is folded 43 times\n",
        "\n",
        "THICKNESS = 0.00008  # Initial thickness of the paper in meters\n",
        "\n",
        "folded_thickness = THICKNESS * (2 ** 43)  # Thickness after 43 folds\n",
        "\n",
        "print(\"Thickness: {:.2f} meters\".format(folded_thickness))\n"
      ],
      "metadata": {
        "colab": {
          "base_uri": "https://localhost:8080/"
        },
        "id": "1d24zRcNOcww",
        "outputId": "1906fede-00e3-42d5-c410-e04be941ac48"
      },
      "execution_count": 1,
      "outputs": [
        {
          "output_type": "stream",
          "name": "stdout",
          "text": [
            "Thickness: 703687441.78 meters\n"
          ]
        }
      ]
    }
  ]
}