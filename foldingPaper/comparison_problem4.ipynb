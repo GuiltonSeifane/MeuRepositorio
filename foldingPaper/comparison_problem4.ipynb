{
 "cells": [
  {
   "cell_type": "code",
   "execution_count": 2,
   "metadata": {},
   "outputs": [
    {
     "name": "stdout",
     "output_type": "stream",
     "text": [
      "Time with for loop: 0.005318 seconds\n",
      "Time with exponentiation operator: 0.00000000 seconds\n",
      "Exponentiation operator is faster.\n"
     ]
    }
   ],
   "source": [
    "import time\n",
    "\n",
    "# Method Using a for loop to calculate power\n",
    "def power_with_loop(base, exponent):\n",
    "    result = 1\n",
    "    for _ in range(exponent):\n",
    "        result *= base\n",
    "    return result\n",
    "\n",
    "# Method  using the exponentiation operator\n",
    "def power_with_exponentiation(base, exponent):\n",
    "    return base ** exponent\n",
    "\n",
    "# Compare execution time\n",
    "base = 2\n",
    "exponent = 10_000  # Increase to amplify differences\n",
    "\n",
    "# Measure time for the loop-based method\n",
    "start = time.time()\n",
    "power_with_loop(base, exponent)\n",
    "elapsed_time_loop = time.time() - start\n",
    "print(f\"Time with for loop: {elapsed_time_loop:.6f} seconds\")\n",
    "\n",
    "# Measure time for the exponentiation method\n",
    "start = time.time()\n",
    "power_with_exponentiation(base, exponent)\n",
    "elapsed_time_exp = time.time() - start\n",
    "print(f\"Time with exponentiation operator: {elapsed_time_exp:.8f} seconds\")\n",
    "\n",
    "# Comparison\n",
    "if elapsed_time_loop > elapsed_time_exp:\n",
    "    print(\"Exponentiation operator is faster.\")\n",
    "else:\n",
    "    print(\"For loop is faster.\")\n"
   ]
  }
 ],
 "metadata": {
  "kernelspec": {
   "display_name": "base",
   "language": "python",
   "name": "python3"
  },
  "language_info": {
   "codemirror_mode": {
    "name": "ipython",
    "version": 3
   },
   "file_extension": ".py",
   "mimetype": "text/x-python",
   "name": "python",
   "nbconvert_exporter": "python",
   "pygments_lexer": "ipython3",
   "version": "3.7.4"
  }
 },
 "nbformat": 4,
 "nbformat_minor": 2
}
