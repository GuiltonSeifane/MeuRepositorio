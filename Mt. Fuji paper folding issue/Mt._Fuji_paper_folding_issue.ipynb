{
 "cells": [
  {
   "cell_type": "code",
   "execution_count": 1,
   "metadata": {},
   "outputs": [],
   "source": [
    "import math\n",
    "\n",
    "def calculate_folds_to_exceed_height(target_height, initial_thickness=0.00008):\n",
    "    \"\"\"\n",
    "    Calculate the minimum number of folds required to exceed a given height.\n",
    "\n",
    "    :param target_height: The height to exceed (in meters).\n",
    "    :param initial_thickness: The initial thickness of the paper (in meters).\n",
    "    :return: Minimum number of folds.\n",
    "    \"\"\"\n",
    "    folds = 0\n",
    "    thickness = initial_thickness\n",
    "    while thickness <= target_height:\n",
    "        thickness *= 2\n",
    "        folds += 1\n",
    "    return folds\n",
    "\n",
    "def required_paper_length(folds, initial_thickness=0.00008):\n",
    "    \"\"\"\n",
    "    Calculate the length of paper required to fold a given number of times.\n",
    "\n",
    "    :param folds: Number of folds.\n",
    "    :param initial_thickness: The initial thickness of the paper (in meters).\n",
    "    :return: Required paper length (in meters).\n",
    "    \"\"\"\n",
    "    return (math.pi * initial_thickness / 6) * ((2 ** folds + 4) * (2 ** folds - 1))\n"
   ]
  },
  {
   "cell_type": "code",
   "execution_count": 2,
   "metadata": {},
   "outputs": [
    {
     "name": "stdout",
     "output_type": "stream",
     "text": [
      "Number of folds to exceed Mt. Fuji: 26\n"
     ]
    }
   ],
   "source": [
    "#Problem Number 2: How many times to fold to exceed the height of Mt. Fuji (3776m)\n",
    "mt_fuji_height = 3776\n",
    "folds_mt_fuji = calculate_folds_to_exceed_height(mt_fuji_height)\n",
    "print(f\"Number of folds to exceed Mt. Fuji: {folds_mt_fuji}\")\n"
   ]
  },
  {
   "cell_type": "code",
   "execution_count": 3,
   "metadata": {},
   "outputs": [
    {
     "name": "stdout",
     "output_type": "stream",
     "text": [
      "Number of folds to reach Proxima Centauri: 69\n"
     ]
    }
   ],
   "source": [
    "# Problem Number 2: Function for arbitrary thickness\n",
    "# Nearest non-sun star: Proxima Centauri (4.0175 * 10^16 m)\n",
    "proxima_centauri_distance = 4.0175e16\n",
    "folds_proxima_centauri = calculate_folds_to_exceed_height(proxima_centauri_distance)\n",
    "print(f\"Number of folds to reach Proxima Centauri: {folds_proxima_centauri}\")\n"
   ]
  },
  {
   "cell_type": "code",
   "execution_count": 4,
   "metadata": {},
   "outputs": [
    {
     "name": "stdout",
     "output_type": "stream",
     "text": [
      "Required paper length to exceed Mt. Fuji: 1.89e+11 meters\n",
      "Required paper length to reach Proxima Centauri: 1.46e+37 meters\n",
      "Number of folds to reach the Moon: 33\n",
      "Required paper length to reach the Moon: 3.09e+15 meters\n"
     ]
    }
   ],
   "source": [
    "# Problem Number 23: Required paper length\n",
    "# Length to reach Mt. Fuji\n",
    "paper_length_mt_fuji = required_paper_length(folds_mt_fuji)\n",
    "print(f\"Required paper length to exceed Mt. Fuji: {paper_length_mt_fuji:.2e} meters\")\n",
    "\n",
    "# Length to reach Proxima Centauri\n",
    "paper_length_proxima_centauri = required_paper_length(folds_proxima_centauri)\n",
    "print(f\"Required paper length to reach Proxima Centauri: {paper_length_proxima_centauri:.2e} meters\")\n",
    "\n",
    "# Moon height as 384,400 meters\n",
    "moon_distance = 384400\n",
    "folds_moon = calculate_folds_to_exceed_height(moon_distance)\n",
    "paper_length_moon = required_paper_length(folds_moon)\n",
    "print(f\"Number of folds to reach the Moon: {folds_moon}\")\n",
    "print(f\"Required paper length to reach the Moon: {paper_length_moon:.2e} meters\")\n"
   ]
  }
 ],
 "metadata": {
  "kernelspec": {
   "display_name": "base",
   "language": "python",
   "name": "python3"
  },
  "language_info": {
   "codemirror_mode": {
    "name": "ipython",
    "version": 3
   },
   "file_extension": ".py",
   "mimetype": "text/x-python",
   "name": "python",
   "nbconvert_exporter": "python",
   "pygments_lexer": "ipython3",
   "version": "3.7.4"
  }
 },
 "nbformat": 4,
 "nbformat_minor": 2
}
