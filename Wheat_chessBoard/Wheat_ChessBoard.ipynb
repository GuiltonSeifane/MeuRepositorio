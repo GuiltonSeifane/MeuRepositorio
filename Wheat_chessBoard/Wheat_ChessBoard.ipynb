{
 "cells": [
  {
   "cell_type": "code",
   "execution_count": 12,
   "metadata": {},
   "outputs": [
    {
     "name": "stdout",
     "output_type": "stream",
     "text": [
      "2x2 Chessboard with Wheat Counts:\n",
      " [[1 2]\n",
      " [4 8]]\n"
     ]
    }
   ],
   "source": [
    "import numpy as np\n",
    "\n",
    "# Create a 2x2 chessboard\n",
    "n_squares = 4\n",
    "indices_of_squares = np.arange(n_squares).astype(np.uint64)\n",
    "wheat_counts = 2**indices_of_squares\n",
    "\n",
    "# Reshape to 2x2\n",
    "chessboard_2x2 = wheat_counts.reshape(2, 2)\n",
    "print(\"2x2 Chessboard with Wheat Counts:\\n\", chessboard_2x2)"
   ]
  },
  {
   "cell_type": "code",
   "execution_count": 11,
   "metadata": {},
   "outputs": [
    {
     "name": "stdout",
     "output_type": "stream",
     "text": [
      "8x8 Chessboard with Wheat Counts:\n",
      " [[                  1                   2                   4\n",
      "                    8                  16                  32\n",
      "                   64                 128]\n",
      " [                256                 512                1024\n",
      "                 2048                4096                8192\n",
      "                16384               32768]\n",
      " [              65536              131072              262144\n",
      "               524288             1048576             2097152\n",
      "              4194304             8388608]\n",
      " [           16777216            33554432            67108864\n",
      "            134217728           268435456           536870912\n",
      "           1073741824          2147483648]\n",
      " [         4294967296          8589934592         17179869184\n",
      "          34359738368         68719476736        137438953472\n",
      "         274877906944        549755813888]\n",
      " [      1099511627776       2199023255552       4398046511104\n",
      "        8796093022208      17592186044416      35184372088832\n",
      "       70368744177664     140737488355328]\n",
      " [    281474976710656     562949953421312    1125899906842624\n",
      "     2251799813685248    4503599627370496    9007199254740992\n",
      "    18014398509481984   36028797018963968]\n",
      " [  72057594037927936  144115188075855872  288230376151711744\n",
      "   576460752303423488 1152921504606846976 2305843009213693952\n",
      "  4611686018427387904 9223372036854775808]]\n"
     ]
    }
   ],
   "source": [
    "def create_chessboard(n, m):\n",
    "    total_squares = n * m\n",
    "    indices_of_squares = np.arange(total_squares).astype(np.uint64)\n",
    "    wheat_counts = 2**indices_of_squares\n",
    "    return wheat_counts.reshape(n, m)\n",
    "\n",
    "# Example: 8x8 chessboard\n",
    "chessboard_8x8 = create_chessboard(8, 8)\n",
    "print(\"8x8 Chessboard with Wheat Counts:\\n\", chessboard_8x8)"
   ]
  },
  {
   "cell_type": "code",
   "execution_count": 13,
   "metadata": {},
   "outputs": [
    {
     "name": "stdout",
     "output_type": "stream",
     "text": [
      "Total Wheat Grains on 8x8 Chessboard: 18446744073709551615\n"
     ]
    },
    {
     "data": {
      "image/png": "[encoded data removed]",
      "text/plain": [
       "<Figure size 432x288 with 1 Axes>"
      ]
     },
     "metadata": {
      "needs_background": "light"
     },
     "output_type": "display_data"
    }
   ],
   "source": [
    "import matplotlib.pyplot as plt\n",
    "\n",
    "# Total number of wheat grains\n",
    "total_wheat = np.sum(chessboard_8x8)\n",
    "print(\"Total Wheat Grains on 8x8 Chessboard:\", total_wheat)\n",
    "\n",
    "# Average number of wheat grains per column\n",
    "column_averages = np.mean(chessboard_8x8, axis=0)\n",
    "\n",
    "# Plotting\n",
    "plt.xlabel(\"Column\")\n",
    "plt.ylabel(\"Average Number of Wheat Grains\")\n",
    "plt.title(\"Average Wheat Grains per Column\")\n",
    "plt.bar(np.arange(1, 9), column_averages)\n",
    "plt.show()"
   ]
  },
  {
   "cell_type": "code",
   "execution_count": 15,
   "metadata": {},
   "outputs": [
    {
     "data": {
      "image/png": "[encoded data removed]",
      "text/plain": [
       "<Figure size 432x288 with 2 Axes>"
      ]
     },
     "metadata": {
      "needs_background": "light"
     },
     "output_type": "display_data"
    }
   ],
   "source": [
    "plt.xlabel(\"Column\")\n",
    "plt.ylabel(\"Row\")\n",
    "plt.title(\"Heatmap of Wheat Grains on 8x8 Chessboard\")\n",
    "plt.pcolor(chessboard_8x8, cmap=\"plasma\")  \n",
    "plt.colorbar(label=\"Number of Wheat Grains\")\n",
    "plt.show()"
   ]
  },
  {
   "cell_type": "code",
   "execution_count": 8,
   "metadata": {},
   "outputs": [
    {
     "name": "stdout",
     "output_type": "stream",
     "text": [
      "Second Half is 4294967296.0 times larger than the First Half.\n"
     ]
    }
   ],
   "source": [
    "# Split the chessboard into first half (rows 0-3) and second half (rows 4-7)\n",
    "first_half = chessboard_8x8[:4, :]\n",
    "second_half = chessboard_8x8[4:, :]\n",
    "\n",
    "# Total wheat in each half\n",
    "total_first_half = np.sum(first_half)\n",
    "total_second_half = np.sum(second_half)\n",
    "\n",
    "# Ratio\n",
    "ratio = total_second_half / total_first_half\n",
    "print(\"Second Half is\", ratio, \"times larger than the First Half.\")"
   ]
  },
  {
   "cell_type": "code",
   "execution_count": 9,
   "metadata": {},
   "outputs": [
    {
     "name": "stdout",
     "output_type": "stream",
     "text": [
      "Using np.append():\n",
      " [[1.00000000e+00 2.00000000e+00 4.00000000e+00 8.00000000e+00\n",
      "  1.60000000e+01 3.20000000e+01 6.40000000e+01 1.28000000e+02]\n",
      " [2.56000000e+02 5.12000000e+02 1.02400000e+03 2.04800000e+03\n",
      "  4.09600000e+03 8.19200000e+03 1.63840000e+04 3.27680000e+04]\n",
      " [6.55360000e+04 1.31072000e+05 2.62144000e+05 5.24288000e+05\n",
      "  1.04857600e+06 2.09715200e+06 4.19430400e+06 8.38860800e+06]\n",
      " [1.67772160e+07 3.35544320e+07 6.71088640e+07 1.34217728e+08\n",
      "  2.68435456e+08 5.36870912e+08 1.07374182e+09 2.14748365e+09]\n",
      " [4.29496730e+09 8.58993459e+09 1.71798692e+10 3.43597384e+10\n",
      "  6.87194767e+10 1.37438953e+11 2.74877907e+11 5.49755814e+11]\n",
      " [1.09951163e+12 2.19902326e+12 4.39804651e+12 8.79609302e+12\n",
      "  1.75921860e+13 3.51843721e+13 7.03687442e+13 1.40737488e+14]\n",
      " [2.81474977e+14 5.62949953e+14 1.12589991e+15 2.25179981e+15\n",
      "  4.50359963e+15 9.00719925e+15 1.80143985e+16 3.60287970e+16]\n",
      " [7.20575940e+16 1.44115188e+17 2.88230376e+17 5.76460752e+17\n",
      "  1.15292150e+18 2.30584301e+18 4.61168602e+18 9.22337204e+18]]\n",
      "Using Broadcasting:\n",
      " [[                  1                   2                   4\n",
      "                    8                  16                  32\n",
      "                   64                 128]\n",
      " [                256                 512                1024\n",
      "                 2048                4096                8192\n",
      "                16384               32768]\n",
      " [              65536              131072              262144\n",
      "               524288             1048576             2097152\n",
      "              4194304             8388608]\n",
      " [           16777216            33554432            67108864\n",
      "            134217728           268435456           536870912\n",
      "           1073741824          2147483648]\n",
      " [         4294967296          8589934592         17179869184\n",
      "          34359738368         68719476736        137438953472\n",
      "         274877906944        549755813888]\n",
      " [      1099511627776       2199023255552       4398046511104\n",
      "        8796093022208      17592186044416      35184372088832\n",
      "       70368744177664     140737488355328]\n",
      " [    281474976710656     562949953421312    1125899906842624\n",
      "     2251799813685248    4503599627370496    9007199254740992\n",
      "    18014398509481984   36028797018963968]\n",
      " [  72057594037927936  144115188075855872  288230376151711744\n",
      "   576460752303423488 1152921504606846976 2305843009213693952\n",
      "  4611686018427387904 9223372036854775808]]\n"
     ]
    }
   ],
   "source": [
    "# Method 1: Using np.append()\n",
    "def create_chessboard_append(n, m):\n",
    "    total_squares = n * m\n",
    "    wheat_counts = np.array([1], dtype=np.uint64)\n",
    "    for _ in range(total_squares - 1):\n",
    "        wheat_counts = np.append(wheat_counts, 2 * wheat_counts[-1])\n",
    "    return wheat_counts.reshape(n, m)\n",
    "\n",
    "# Method 2: Using broadcasting\n",
    "def create_chessboard_broadcast(n, m):\n",
    "    total_squares = n * m\n",
    "    indices_of_squares = np.arange(total_squares).astype(np.uint64)\n",
    "    wheat_counts = 2**indices_of_squares\n",
    "    return wheat_counts.reshape(n, m)\n",
    "\n",
    "# Test both methods\n",
    "chessboard_append = create_chessboard_append(8, 8)\n",
    "chessboard_broadcast = create_chessboard_broadcast(8, 8)\n",
    "\n",
    "print(\"Using np.append():\\n\", chessboard_append)\n",
    "print(\"Using Broadcasting:\\n\", chessboard_broadcast)"
   ]
  },
  {
   "cell_type": "code",
   "execution_count": 14,
   "metadata": {},
   "outputs": [
    {
     "name": "stdout",
     "output_type": "stream",
     "text": [
      "Method 1: 0.0014959999999746287\n",
      "Method 2: 0.03940189999997301\n",
      "Method 3: 0.00033980000000610744\n"
     ]
    }
   ],
   "source": [
    "import timeit\n",
    "import numpy as np\n",
    "\n",
    "n_squares = 64\n",
    "\n",
    "# Method 1: Python list and for loop\n",
    "def method1():\n",
    "    small_board_list = [1]\n",
    "    for _ in range(n_squares - 1):\n",
    "        small_board_list.append(2 * small_board_list[-1])\n",
    "\n",
    "# Method 2: Using np.append()\n",
    "def method2():\n",
    "    small_board_ndarray = np.array([1], dtype=np.uint64)\n",
    "    for _ in range(n_squares - 1):\n",
    "        small_board_ndarray = np.append(small_board_ndarray, 2 * small_board_ndarray[-1])\n",
    "\n",
    "# Method 3: Using broadcasting\n",
    "def method3():\n",
    "    indices_of_squares = np.arange(n_squares).astype(np.uint64)\n",
    "    small_board_ndarray = 2**indices_of_squares\n",
    "\n",
    "# Timing each method\n",
    "print(\"Method 1:\", timeit.timeit(method1, number=100))\n",
    "print(\"Method 2:\", timeit.timeit(method2, number=100))\n",
    "print(\"Method 3:\", timeit.timeit(method3, number=100))\n"
   ]
  }
 ],
 "metadata": {
  "kernelspec": {
   "display_name": "base",
   "language": "python",
   "name": "python3"
  },
  "language_info": {
   "codemirror_mode": {
    "name": "ipython",
    "version": 3
   },
   "file_extension": ".py",
   "mimetype": "text/x-python",
   "name": "python",
   "nbconvert_exporter": "python",
   "pygments_lexer": "ipython3",
   "version": "3.7.4"
  }
 },
 "nbformat": 4,
 "nbformat_minor": 2
}
